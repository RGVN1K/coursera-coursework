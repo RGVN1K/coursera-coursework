{
  "nbformat": 4,
  "nbformat_minor": 0,
  "metadata": {
    "colab": {
      "provenance": []
    },
    "kernelspec": {
      "name": "python3",
      "display_name": "Python 3"
    },
    "language_info": {
      "name": "python"
    }
  },
  "cells": [
    {
      "cell_type": "markdown",
      "source": [
        "# Data Science Tools and Ecosystem"
      ],
      "metadata": {
        "id": "gNsqDUaqAFYj"
      }
    },
    {
      "cell_type": "markdown",
      "source": [
        "In this notebook, Data Science Tools and Ecosystem are summarized."
      ],
      "metadata": {
        "id": "Yj5DvKkfAhEN"
      }
    },
    {
      "cell_type": "markdown",
      "source": [
        "Some of the popular languages that Data Scientists use are:"
      ],
      "metadata": {
        "id": "WJF8UFtSAkCb"
      }
    },
    {
      "cell_type": "markdown",
      "source": [
        "1. Python\n",
        "2. R\n",
        "3. SQL\n"
      ],
      "metadata": {
        "id": "VpXNTK_fAklQ"
      }
    },
    {
      "cell_type": "markdown",
      "source": [
        "Some of the commonly used libraries used by Data Scientists include:"
      ],
      "metadata": {
        "id": "fcnA0T00BS8M"
      }
    },
    {
      "cell_type": "markdown",
      "source": [
        "1. Pandas\n",
        "2. NumPy\n",
        "3. Scikit-Learn\n"
      ],
      "metadata": {
        "id": "ylGyZ-rIBaue"
      }
    },
    {
      "cell_type": "markdown",
      "source": [
        "Data Science Tools"
      ],
      "metadata": {
        "id": "rrK5ojVIBr0E"
      }
    },
    {
      "cell_type": "markdown",
      "source": [
        "| Jupyter Notebook   |\n",
        "| RStudio            |\n",
        "| Apache Zeppelin    |"
      ],
      "metadata": {
        "id": "E6c0dG7EBwAC"
      }
    },
    {
      "cell_type": "markdown",
      "source": [
        "### Below are a few examples of evaluating arithmetic expressions in Python.\n"
      ],
      "metadata": {
        "id": "uoU_dgzUB0ZE"
      }
    },
    {
      "cell_type": "code",
      "source": [
        "#first multiply than summary.\n",
        "(3 * 4) + 5\n"
      ],
      "metadata": {
        "colab": {
          "base_uri": "https://localhost:8080/"
        },
        "id": "hdtoIpX-CJio",
        "outputId": "bf6add7f-71a8-4fc5-b906-627e2ea38bfc"
      },
      "execution_count": 1,
      "outputs": [
        {
          "output_type": "execute_result",
          "data": {
            "text/plain": [
              "17"
            ]
          },
          "metadata": {},
          "execution_count": 1
        }
      ]
    },
    {
      "cell_type": "code",
      "source": [
        "# This statement will convert 200 minutes to hours by dividing it to 60.\n",
        "200 / 60\n"
      ],
      "metadata": {
        "colab": {
          "base_uri": "https://localhost:8080/"
        },
        "id": "5rDrNOZJCaw1",
        "outputId": "eb2df59c-8ea1-46b8-e93e-e58b84ea1d3f"
      },
      "execution_count": 2,
      "outputs": [
        {
          "output_type": "execute_result",
          "data": {
            "text/plain": [
              "3.3333333333333335"
            ]
          },
          "metadata": {},
          "execution_count": 2
        }
      ]
    },
    {
      "cell_type": "markdown",
      "source": [
        "**Objectives:**\n",
        "\n"
      ],
      "metadata": {
        "id": "v4BIbPURCw6k"
      }
    },
    {
      "cell_type": "markdown",
      "source": [
        "- Popüler veri bilimi dillerini listeleme\n",
        "- Veri bilimi için kullanılan yaygın kütüphaneleri tanıtma\n",
        "- Veri bilimi araçlarını içeren bir tablo oluşturma\n",
        "- Aritmetik ifadelerin Python'da nasıl değerlendirildiğini örneklerle gösterme\n",
        "- Basit matematik işlemleri için kod hücreleri yazma\n"
      ],
      "metadata": {
        "id": "vvCqjyovC9hf"
      }
    },
    {
      "cell_type": "markdown",
      "source": [
        "## Author\n",
        "BARTU ERGOVAN\n"
      ],
      "metadata": {
        "id": "b9dnPgbKDcq8"
      }
    }
  ]
}